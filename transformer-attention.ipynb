{
 "cells": [
  {
   "cell_type": "code",
   "execution_count": 1,
   "id": "750d93d0",
   "metadata": {
    "execution": {
     "iopub.execute_input": "2023-11-14T08:55:12.431480Z",
     "iopub.status.busy": "2023-11-14T08:55:12.431095Z",
     "iopub.status.idle": "2023-11-14T08:55:15.905541Z",
     "shell.execute_reply": "2023-11-14T08:55:15.904455Z"
    },
    "papermill": {
     "duration": 3.482062,
     "end_time": "2023-11-14T08:55:15.908484",
     "exception": false,
     "start_time": "2023-11-14T08:55:12.426422",
     "status": "completed"
    },
    "tags": []
   },
   "outputs": [],
   "source": [
    "import torch\n",
    "import torch.nn as nn\n",
    "import math\n",
    "import copy"
   ]
  },
  {
   "cell_type": "code",
   "execution_count": 2,
   "id": "a8c396dc",
   "metadata": {
    "_cell_guid": "b1076dfc-b9ad-4769-8c92-a6c4dae69d19",
    "_uuid": "8f2839f25d086af736a60e9eeb907d3b93b6e0e5",
    "execution": {
     "iopub.execute_input": "2023-11-14T08:55:15.915767Z",
     "iopub.status.busy": "2023-11-14T08:55:15.915232Z",
     "iopub.status.idle": "2023-11-14T08:55:15.923688Z",
     "shell.execute_reply": "2023-11-14T08:55:15.922551Z"
    },
    "papermill": {
     "duration": 0.014917,
     "end_time": "2023-11-14T08:55:15.926166",
     "exception": false,
     "start_time": "2023-11-14T08:55:15.911249",
     "status": "completed"
    },
    "tags": []
   },
   "outputs": [],
   "source": [
    "def attention(query, key, value, mask=None, dropout=None):\n",
    "    \n",
    "    '''\n",
    "    query=(1xd_k), key,value=(nxd_k)로 생각 (실제로 query도 (nxd_k) word matrix)\n",
    "    scaling : d_k 커질수록 softmax 시 gradient saturate 방지\n",
    "    '''\n",
    "    \n",
    "    d_k = query.size(-1) \n",
    "    scores = torch.matmul(query, key.transpose(-2,-1)) / math.sqrt(d_k) # score per word wrt query\n",
    "    if mask:\n",
    "        scores = scores.masked_fill(mask==0, -1e9) # pad masking\n",
    "    prob = scores.softmax(dim=0)\n",
    "    if dropout:\n",
    "        prob = dropout(prob)\n",
    "    \n",
    "    weighted_query = torch.matmul(prob, value)\n",
    "    \n",
    "    return weighted_query, prob"
   ]
  },
  {
   "cell_type": "code",
   "execution_count": 3,
   "id": "fcdf5b72",
   "metadata": {
    "execution": {
     "iopub.execute_input": "2023-11-14T08:55:15.933030Z",
     "iopub.status.busy": "2023-11-14T08:55:15.932608Z",
     "iopub.status.idle": "2023-11-14T08:55:15.938297Z",
     "shell.execute_reply": "2023-11-14T08:55:15.937314Z"
    },
    "papermill": {
     "duration": 0.011704,
     "end_time": "2023-11-14T08:55:15.940509",
     "exception": false,
     "start_time": "2023-11-14T08:55:15.928805",
     "status": "completed"
    },
    "tags": []
   },
   "outputs": [],
   "source": [
    "def clones(module, N):\n",
    "    \"Produce modulelist with N identical layers.\"\n",
    "    return nn.ModuleList([copy.deepcopy(module) for _ in range(N)])"
   ]
  },
  {
   "cell_type": "code",
   "execution_count": 4,
   "id": "dd45e868",
   "metadata": {
    "execution": {
     "iopub.execute_input": "2023-11-14T08:55:15.947509Z",
     "iopub.status.busy": "2023-11-14T08:55:15.947093Z",
     "iopub.status.idle": "2023-11-14T08:55:15.958419Z",
     "shell.execute_reply": "2023-11-14T08:55:15.957612Z"
    },
    "papermill": {
     "duration": 0.017473,
     "end_time": "2023-11-14T08:55:15.960682",
     "exception": false,
     "start_time": "2023-11-14T08:55:15.943209",
     "status": "completed"
    },
    "tags": []
   },
   "outputs": [],
   "source": [
    "class MultiHeadAttention(nn.Module):\n",
    "    def __init__(self, h, d_model, dropout=0.1):\n",
    "        super().__init__()\n",
    "        assert d_model % h == 0\n",
    "        \n",
    "        self.d_model = d_model\n",
    "        self.d_k = d_model // h\n",
    "        self.h = h\n",
    "        self.dropout = nn.Dropout(p=dropout)\n",
    "        self.modulelist = clones(nn.Linear(d_model, d_model), N=4) # torch에 인식 위함, qkv 위해 3개, 마지막 위해 1개\n",
    "        self.att_prob = None\n",
    "        \n",
    "    def forward(self, query, key, value, mask=None):\n",
    "        if mask:\n",
    "            mask = mask.unsqueeze(1) # ??\n",
    "        num_batch = query.size(0)\n",
    "        \n",
    "        qkv_list = []\n",
    "        for lin, x in zip(self.modulelist, (query, key, value)):\n",
    "            qkv = lin(x).view(num_batch, -1, self.h, self.d_k).transpose(1,2)\n",
    "            qkv_list.append(qkv)\n",
    "        \n",
    "        weighted_query, self.att_prob = attention(query, key, value, mask=mask, dropout=self.dropout)\n",
    "        \n",
    "        # concat\n",
    "        weighted_query = (weighted_query.transpose(1,2).contiguous().view(num_batch, -1, self.h*self.d_k))\n",
    "        del query\n",
    "        del key\n",
    "        del value\n",
    "        \n",
    "        return self.modulelist[-1](weighted_query)\n",
    "        \n",
    "            "
   ]
  }
 ],
 "metadata": {
  "kernelspec": {
   "display_name": "Python 3",
   "language": "python",
   "name": "python3"
  },
  "language_info": {
   "codemirror_mode": {
    "name": "ipython",
    "version": 3
   },
   "file_extension": ".py",
   "mimetype": "text/x-python",
   "name": "python",
   "nbconvert_exporter": "python",
   "pygments_lexer": "ipython3",
   "version": "3.10.12"
  },
  "papermill": {
   "default_parameters": {},
   "duration": 7.739389,
   "end_time": "2023-11-14T08:55:16.784721",
   "environment_variables": {},
   "exception": null,
   "input_path": "__notebook__.ipynb",
   "output_path": "__notebook__.ipynb",
   "parameters": {},
   "start_time": "2023-11-14T08:55:09.045332",
   "version": "2.4.0"
  }
 },
 "nbformat": 4,
 "nbformat_minor": 5
}
