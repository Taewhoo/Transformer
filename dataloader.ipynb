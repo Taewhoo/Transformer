{
 "cells": [
  {
   "cell_type": "code",
   "execution_count": 1,
   "id": "1ba3f402",
   "metadata": {
    "_cell_guid": "1a151748-83d8-41f3-8bf1-b66f6491032b",
    "_uuid": "dd2b7aa0-a57a-4558-8210-e2b9e07c15cf",
    "collapsed": false,
    "execution": {
     "iopub.execute_input": "2023-11-01T08:26:16.427750Z",
     "iopub.status.busy": "2023-11-01T08:26:16.427333Z",
     "iopub.status.idle": "2023-11-01T08:26:20.827307Z",
     "shell.execute_reply": "2023-11-01T08:26:20.826299Z"
    },
    "jupyter": {
     "outputs_hidden": false
    },
    "papermill": {
     "duration": 4.408127,
     "end_time": "2023-11-01T08:26:20.829990",
     "exception": false,
     "start_time": "2023-11-01T08:26:16.421863",
     "status": "completed"
    },
    "tags": []
   },
   "outputs": [],
   "source": [
    "import torch\n",
    "from torch.utils.data import Dataset, DataLoader\n",
    "from torch.nn.functional import pad\n",
    "from torch.utils.data.distributed import DistributedSampler\n",
    "\n",
    "import sentencepiece as spm\n",
    "import pandas as pd\n",
    "\n",
    "class TFDataset(Dataset):\n",
    "\n",
    "    def __init__(self, bpm_model, tsv_file):\n",
    "        sp = spm.SentencePieceProcessor()\n",
    "        sp.load(bpm_model)\n",
    "\n",
    "        self.sp = sp\n",
    "        self.bos_id = sp.bos_id() #1\n",
    "        self.eos_id = sp.eos_id() #2\n",
    "        \n",
    "        self.tsv_file = pd.read_csv(tsv_file, delimiter='\\t', usecols=['src', 'tar'])\n",
    "    \n",
    "    def __len__(self):\n",
    "        return len(self.tsv_file) #250k\n",
    "    \n",
    "    def __getitem__(self, idx):\n",
    "        src_sent = self.tsv_file.iloc[idx, 0] \n",
    "        tar_sent = self.tsv_file.iloc[idx, 1]\n",
    "        src_encoded = [self.bos_id] + self.sp.encode_as_ids(src_sent) + [self.eos_id]\n",
    "        tar_encoded = [self.bos_id] + self.sp.encode_as_ids(tar_sent) + [self.eos_id]\n",
    "        \n",
    "        return torch.tensor(src_encoded), torch.tensor(tar_encoded)\n",
    "\n",
    "def collate_fn(batch, max_pad=128):\n",
    "    \n",
    "    '''batch : [(src_tensor, tar_tensor), ...]'''\n",
    "    \n",
    "    src_list, tar_list = [], []\n",
    "    \n",
    "    for (src, tar) in batch:\n",
    "        src_padded = pad(src, (0, max_pad - len(src))) # 문장 뒤로 max_len까지 zero-padding\n",
    "        src_list.append(src_padded)\n",
    "        tar_padded = pad(tar, (0, max_pad - len(tar)))\n",
    "        tar_list.append(tar_padded)\n",
    "    \n",
    "    src = torch.stack(src_list) # list([128],[128],[128]) => tensor w/ size([3,128])\n",
    "    tar = torch.stack(tar_list)\n",
    "    \n",
    "    return (src, tar)\n",
    "\n",
    "def create_dataloader(bpm_model, tsv_file, is_distributed=False, batch_size=128):\n",
    "    dataset = TFDataset(bpm_model, tsv_file)\n",
    "    sampler = (DistributedSampler(dataset) if is_distributed else None)\n",
    "    \n",
    "    train_dataloader = DataLoader(\n",
    "        dataset,\n",
    "        batch_size=batch_size,\n",
    "        shuffle=(is_distributed is False),\n",
    "        sampler=sampler,\n",
    "        collate_fn=collate_fn\n",
    "    )\n",
    "    return train_dataloader"
   ]
  },
  {
   "cell_type": "code",
   "execution_count": 2,
   "id": "a8e9b5bf",
   "metadata": {
    "execution": {
     "iopub.execute_input": "2023-11-01T08:26:20.842254Z",
     "iopub.status.busy": "2023-11-01T08:26:20.841460Z",
     "iopub.status.idle": "2023-11-01T08:26:20.846883Z",
     "shell.execute_reply": "2023-11-01T08:26:20.845695Z"
    },
    "papermill": {
     "duration": 0.015479,
     "end_time": "2023-11-01T08:26:20.849700",
     "exception": false,
     "start_time": "2023-11-01T08:26:20.834221",
     "status": "completed"
    },
    "tags": []
   },
   "outputs": [],
   "source": [
    "import os\n",
    "model_path = '/kaggle/input/wmt14-bpe-250k/bpe_250k.model'\n",
    "tsv_path = '/kaggle/input/wmt14-train-250k/train_df_250k.tsv'"
   ]
  },
  {
   "cell_type": "code",
   "execution_count": 3,
   "id": "801d298b",
   "metadata": {
    "execution": {
     "iopub.execute_input": "2023-11-01T08:26:20.857525Z",
     "iopub.status.busy": "2023-11-01T08:26:20.857123Z",
     "iopub.status.idle": "2023-11-01T08:26:23.363816Z",
     "shell.execute_reply": "2023-11-01T08:26:23.362816Z"
    },
    "papermill": {
     "duration": 2.513859,
     "end_time": "2023-11-01T08:26:23.366512",
     "exception": false,
     "start_time": "2023-11-01T08:26:20.852653",
     "status": "completed"
    },
    "tags": []
   },
   "outputs": [],
   "source": [
    "import pandas as pd\n",
    "data = pd.read_csv(tsv_path, delimiter='\\t', usecols=['src', 'tar'])"
   ]
  },
  {
   "cell_type": "code",
   "execution_count": 4,
   "id": "3a656c7f",
   "metadata": {
    "execution": {
     "iopub.execute_input": "2023-11-01T08:26:23.374822Z",
     "iopub.status.busy": "2023-11-01T08:26:23.374097Z",
     "iopub.status.idle": "2023-11-01T08:26:23.395744Z",
     "shell.execute_reply": "2023-11-01T08:26:23.394424Z"
    },
    "papermill": {
     "duration": 0.028552,
     "end_time": "2023-11-01T08:26:23.398254",
     "exception": false,
     "start_time": "2023-11-01T08:26:23.369702",
     "status": "completed"
    },
    "tags": []
   },
   "outputs": [
    {
     "data": {
      "text/html": [
       "<div>\n",
       "<style scoped>\n",
       "    .dataframe tbody tr th:only-of-type {\n",
       "        vertical-align: middle;\n",
       "    }\n",
       "\n",
       "    .dataframe tbody tr th {\n",
       "        vertical-align: top;\n",
       "    }\n",
       "\n",
       "    .dataframe thead th {\n",
       "        text-align: right;\n",
       "    }\n",
       "</style>\n",
       "<table border=\"1\" class=\"dataframe\">\n",
       "  <thead>\n",
       "    <tr style=\"text-align: right;\">\n",
       "      <th></th>\n",
       "      <th>src</th>\n",
       "      <th>tar</th>\n",
       "    </tr>\n",
       "  </thead>\n",
       "  <tbody>\n",
       "    <tr>\n",
       "      <th>0</th>\n",
       "      <td>Resumption of the session</td>\n",
       "      <td>Wiederaufnahme der Sitzungsperiode</td>\n",
       "    </tr>\n",
       "    <tr>\n",
       "      <th>1</th>\n",
       "      <td>I declare resumed the session of the European ...</td>\n",
       "      <td>Ich erkläre die am Freitag, dem 17. Dezember u...</td>\n",
       "    </tr>\n",
       "    <tr>\n",
       "      <th>2</th>\n",
       "      <td>Although, as you will have seen, the dreaded '...</td>\n",
       "      <td>Wie Sie feststellen konnten, ist der gefürchte...</td>\n",
       "    </tr>\n",
       "    <tr>\n",
       "      <th>3</th>\n",
       "      <td>You have requested a debate on this subject in...</td>\n",
       "      <td>Im Parlament besteht der Wunsch nach einer Aus...</td>\n",
       "    </tr>\n",
       "    <tr>\n",
       "      <th>4</th>\n",
       "      <td>In the meantime, I should like to observe a mi...</td>\n",
       "      <td>Heute möchte ich Sie bitten - das ist auch der...</td>\n",
       "    </tr>\n",
       "  </tbody>\n",
       "</table>\n",
       "</div>"
      ],
      "text/plain": [
       "                                                 src  \\\n",
       "0                          Resumption of the session   \n",
       "1  I declare resumed the session of the European ...   \n",
       "2  Although, as you will have seen, the dreaded '...   \n",
       "3  You have requested a debate on this subject in...   \n",
       "4  In the meantime, I should like to observe a mi...   \n",
       "\n",
       "                                                 tar  \n",
       "0                 Wiederaufnahme der Sitzungsperiode  \n",
       "1  Ich erkläre die am Freitag, dem 17. Dezember u...  \n",
       "2  Wie Sie feststellen konnten, ist der gefürchte...  \n",
       "3  Im Parlament besteht der Wunsch nach einer Aus...  \n",
       "4  Heute möchte ich Sie bitten - das ist auch der...  "
      ]
     },
     "execution_count": 4,
     "metadata": {},
     "output_type": "execute_result"
    }
   ],
   "source": [
    "data.head()"
   ]
  },
  {
   "cell_type": "code",
   "execution_count": 5,
   "id": "86599c6d",
   "metadata": {
    "execution": {
     "iopub.execute_input": "2023-11-01T08:26:23.406438Z",
     "iopub.status.busy": "2023-11-01T08:26:23.405978Z",
     "iopub.status.idle": "2023-11-01T08:26:25.318362Z",
     "shell.execute_reply": "2023-11-01T08:26:25.316884Z"
    },
    "papermill": {
     "duration": 1.91996,
     "end_time": "2023-11-01T08:26:25.321504",
     "exception": false,
     "start_time": "2023-11-01T08:26:23.401544",
     "status": "completed"
    },
    "tags": []
   },
   "outputs": [
    {
     "name": "stdout",
     "output_type": "stream",
     "text": [
      "tensor([[    1,   879,    58,  ...,     0,     0,     0],\n",
      "        [    1,   594,  5468,  ...,     0,     0,     0],\n",
      "        [    1,  4891, 31943,  ...,     0,     0,     0],\n",
      "        ...,\n",
      "        [    1,   594,    63,  ...,     0,     0,     0],\n",
      "        [    1,   186,    99,  ...,     0,     0,     0],\n",
      "        [    1,   266,  1990,  ...,     0,     0,     0]])\n",
      "tensor([[    1,  1330,   463,  ...,     0,     0,     0],\n",
      "        [    1,   600,   171,  ...,     0,     0,     0],\n",
      "        [    1,  4080, 31943,  ...,     0,     0,     0],\n",
      "        ...,\n",
      "        [    1,  3269,   171,  ...,     0,     0,     0],\n",
      "        [    1, 11709,   171,  ...,     0,     0,     0],\n",
      "        [    1,  1323,    51,  ...,     0,     0,     0]])\n",
      "torch.Size([128, 128])\n",
      "torch.Size([128, 128])\n"
     ]
    }
   ],
   "source": [
    "train_dataloader = create_dataloader(model_path, tsv_path)\n",
    "src, tar = next(iter(train_dataloader))\n",
    "print(src)\n",
    "print(tar)\n",
    "print(src.shape)\n",
    "print(tar.shape)"
   ]
  }
 ],
 "metadata": {
  "kernelspec": {
   "display_name": "Python 3",
   "language": "python",
   "name": "python3"
  },
  "language_info": {
   "codemirror_mode": {
    "name": "ipython",
    "version": 3
   },
   "file_extension": ".py",
   "mimetype": "text/x-python",
   "name": "python",
   "nbconvert_exporter": "python",
   "pygments_lexer": "ipython3",
   "version": "3.10.12"
  },
  "papermill": {
   "default_parameters": {},
   "duration": 13.797511,
   "end_time": "2023-11-01T08:26:26.349700",
   "environment_variables": {},
   "exception": null,
   "input_path": "__notebook__.ipynb",
   "output_path": "__notebook__.ipynb",
   "parameters": {},
   "start_time": "2023-11-01T08:26:12.552189",
   "version": "2.4.0"
  }
 },
 "nbformat": 4,
 "nbformat_minor": 5
}
